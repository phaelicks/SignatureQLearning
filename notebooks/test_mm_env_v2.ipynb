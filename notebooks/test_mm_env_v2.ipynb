{
 "cells": [
  {
   "cell_type": "code",
   "execution_count": null,
   "metadata": {},
   "outputs": [],
   "source": [
    "%run base.ipynb\n",
    "%load_ext autoreload\n",
    "%autoreload 2\n",
    "\n",
    "import gym\n",
    "import matplotlib.pyplot as plt\n",
    "\n",
    "from abides_gym_market_making_environment_v2 import *\n",
    "from policies_v1 import SigPolicy\n",
    "from train_v2 import train\n",
    "import utils"
   ]
  },
  {
   "cell_type": "markdown",
   "metadata": {},
   "source": [
    "## Register the environment"
   ]
  },
  {
   "cell_type": "code",
   "execution_count": null,
   "metadata": {},
   "outputs": [],
   "source": [
    "# register market making env for gym use \n",
    "from gym.envs.registration import register\n",
    "\n",
    "register(\n",
    "    id=\"market-making-v2\",\n",
    "    entry_point=SubGymMarketsMarketMakingEnv_v2,\n",
    ")\n",
    "\n",
    "def generate_env(seed):\n",
    "    \"\"\"\n",
    "    generates specific environment with the parameters defined and set the seed\n",
    "    \"\"\"\n",
    "    env = gym.make(\n",
    "            \"market-making-v2\",\n",
    "            background_config=\"rmsc04\",\n",
    "            mkt_close=\"10:45:00\",\n",
    "            timestep_duration=\"10s\",\n",
    "            order_fixed_size=10,\n",
    "            first_interval=\"00:10:00\", #00:13:00\n",
    "            observe_first_interval=True,\n",
    "            max_inventory=100,\n",
    "            mkt_order_alpha=0.2,\n",
    "            terminal_inventory_reward=2,# reward\n",
    "            inventory_reward_dampener=1., # 0.6,\n",
    "            damp_mode=\"asymmetric\",\n",
    "            debug_mode=False\n",
    "        )\n",
    "\n",
    "    env.seed(seed)\n",
    "    \n",
    "    return env\n",
    "\n",
    "# create the environment\n",
    "env = generate_env(5)"
   ]
  },
  {
   "cell_type": "markdown",
   "metadata": {},
   "source": [
    "## Signature policy"
   ]
  },
  {
   "cell_type": "code",
   "execution_count": null,
   "metadata": {},
   "outputs": [],
   "source": [
    "episodes = 250\n",
    "lr = 0.0001\n",
    "window_length = None\n",
    "eps = 1.0\n",
    "eps_decay = utils.linear_decay(epochs=20_000, start=eps, end=0.02)\n",
    "\n",
    "sigpolicy = SigPolicy(env, 5)\n",
    "sigpolicy.initialize_parameters(factor=1, zero_bias=True)\n",
    "\n",
    "results = train(env, \n",
    "                sigpolicy, \n",
    "                episodes,\n",
    "                discount=1.0,\n",
    "                learning_rate=lr, \n",
    "                exploration=\"greedy\",\n",
    "                epsilon=eps,\n",
    "                epsilon_decay=eps_decay,\n",
    "                window_length=window_length, \n",
    "                printing=False)"
   ]
  },
  {
   "cell_type": "code",
   "execution_count": null,
   "metadata": {},
   "outputs": [],
   "source": [
    "\n",
    "utils.plot_results([\n",
    "    #results[\"rewards\"],\n",
    "    [x if abs(x) < 400 else 0 for x in results[\"rewards\"]],\n",
    "    #results[\"losses\"],\n",
    "    [x if abs(x) < 2000 else 200 for x in results[\"losses\"]],\n",
    "    results[\"cash\"],\n",
    "    results[\"terminal_inventory\"],\n",
    "])\n",
    "\n",
    "id = -2\n",
    "\n",
    "observation_history = list(results[\"observations\"][id])\n",
    "plt.plot(observation_history)\n",
    "plt.xlabel(\"Observation history\")\n",
    "plt.show()\n",
    "\n",
    "plt.plot(results[\"actions\"][id])\n",
    "plt.xlabel(\"Action history\")\n",
    "plt.show()\n",
    "\n",
    "plt.plot(results[\"mid_prices\"][id])\n",
    "plt.xlabel(\"Mid-price history\")\n",
    "plt.show()\n"
   ]
  },
  {
   "cell_type": "code",
   "execution_count": null,
   "metadata": {},
   "outputs": [],
   "source": [
    "print(results[\"losses\"][20:25])\n",
    "plt.plot(results[\"mid_prices\"][1])"
   ]
  },
  {
   "cell_type": "code",
   "execution_count": null,
   "metadata": {},
   "outputs": [],
   "source": [
    "# results_reduced_100_runs_0804_1  # without inventory reward\n",
    "# results_reduced_50_runs_0804_2  # with inventory reward\n",
    "# results_reduced_50_runs_0804_3 # with inventory reward and correct epsilon decay\n",
    "# results_v2_200_runs_0808_1_convergence # inventory only model, with some convergence\n",
    "# results_v2_250_runs_0809_1 # inventory only model, with some convergence\n",
    "# results_v2_250_runs_0809_2 # inventory only model, with some convergence\n",
    "\n",
    "import pickle\n",
    "\n",
    "\"\"\"\n",
    "# write results \n",
    "with open('../results/results_NEW.pkl', 'wb') as f:  # open a text file\n",
    "    pickle.dump(results, f) # serialize the list\n",
    "f.close()\n",
    "\n",
    "\n",
    "# load results\n",
    "with open('../results/results_reduced_100_runs_0804_1.pkl', 'rb') as f:\n",
    "    results = pickle.load(f)\n",
    "f.close()\n",
    "\"\"\"\n"
   ]
  },
  {
   "cell_type": "code",
   "execution_count": null,
   "metadata": {},
   "outputs": [],
   "source": []
  }
 ],
 "metadata": {
  "kernelspec": {
   "display_name": "venv",
   "language": "python",
   "name": "python3"
  },
  "language_info": {
   "codemirror_mode": {
    "name": "ipython",
    "version": 3
   },
   "file_extension": ".py",
   "mimetype": "text/x-python",
   "name": "python",
   "nbconvert_exporter": "python",
   "pygments_lexer": "ipython3",
   "version": "3.8.0"
  },
  "orig_nbformat": 4
 },
 "nbformat": 4,
 "nbformat_minor": 2
}
