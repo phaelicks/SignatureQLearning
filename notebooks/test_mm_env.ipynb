{
 "cells": [
  {
   "cell_type": "code",
   "execution_count": null,
   "metadata": {},
   "outputs": [],
   "source": [
    "%run base.ipynb\n",
    "import gym\n",
    "from abides_gym_market_making_environment import *\n",
    "from policies import SigPolicy\n",
    "from train import train\n",
    "import matplotlib.pyplot as plt"
   ]
  },
  {
   "cell_type": "code",
   "execution_count": null,
   "metadata": {},
   "outputs": [],
   "source": [
    "# register market making env for gym use \n",
    "from gym.envs.registration import register\n",
    "\n",
    "register(\n",
    "    id=\"market-making-v0\",\n",
    "    entry_point=SubGymMarketsMarketMakingEnv_v0,\n",
    ")\n",
    "\n",
    "def generate_env(seed):\n",
    "    \"\"\"\n",
    "    generates specific environment with the parameters defined and set the seed\n",
    "    \"\"\"\n",
    "    env = gym.make(\n",
    "            \"market-making-v0\",\n",
    "            background_config=\"rmsc04\",\n",
    "            mkt_close=\"12:00:00\",\n",
    "            timestep_duration=\"20S\",\n",
    "            order_fixed_size=100,\n",
    "            max_inventory=1000,\n",
    "            remaining_inventory_reward=-100,#penalty\n",
    "            inventory_reward_dampener=0.5,\n",
    "            damp_mode=\"asymmetric\"\n",
    "        )\n",
    "\n",
    "    env.seed(seed)\n",
    "    \n",
    "    return env"
   ]
  },
  {
   "cell_type": "code",
   "execution_count": null,
   "metadata": {},
   "outputs": [],
   "source": [
    "# create the environment\n",
    "env = generate_env(1)"
   ]
  },
  {
   "cell_type": "code",
   "execution_count": null,
   "metadata": {},
   "outputs": [],
   "source": [
    "episodes = 100\n",
    "lr = 0.001\n",
    "window_length = 60\n",
    "\n",
    "sigpolicy = SigPolicy(env, 2)\n",
    "sigpolicy.initialize_parameters(zero_bias=True)\n",
    "results = train(env, sigpolicy, episodes, learning_rate=lr, window_length=window_length, printing=True)\n",
    "\n",
    "print(sigpolicy.linear.weight.data)\n"
   ]
  },
  {
   "cell_type": "code",
   "execution_count": null,
   "metadata": {},
   "outputs": [],
   "source": [
    "plt.plot(results[\"actions\"])"
   ]
  }
 ],
 "metadata": {
  "kernelspec": {
   "display_name": "venv",
   "language": "python",
   "name": "python3"
  },
  "language_info": {
   "codemirror_mode": {
    "name": "ipython",
    "version": 3
   },
   "file_extension": ".py",
   "mimetype": "text/x-python",
   "name": "python",
   "nbconvert_exporter": "python",
   "pygments_lexer": "ipython3",
   "version": "3.8.0"
  },
  "orig_nbformat": 4
 },
 "nbformat": 4,
 "nbformat_minor": 2
}
