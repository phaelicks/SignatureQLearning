{
 "cells": [
  {
   "cell_type": "code",
   "execution_count": 1,
   "metadata": {},
   "outputs": [],
   "source": [
    "%run base.ipynb\n",
    "import gym\n",
    "from abides_gym_market_making_environment import *\n",
    "from policies import SigPolicy\n",
    "from train import train"
   ]
  },
  {
   "cell_type": "code",
   "execution_count": 2,
   "metadata": {},
   "outputs": [],
   "source": [
    "# register market making env for gym use \n",
    "from gym.envs.registration import register\n",
    "\n",
    "register(\n",
    "    id=\"market-making-v0\",\n",
    "    entry_point=SubGymMarketsMarketMakingEnv_v0,\n",
    ")"
   ]
  },
  {
   "cell_type": "code",
   "execution_count": 3,
   "metadata": {},
   "outputs": [
    {
     "data": {
      "text/plain": [
       "[1]"
      ]
     },
     "execution_count": 3,
     "metadata": {},
     "output_type": "execute_result"
    }
   ],
   "source": [
    "# create the environment\n",
    "env = gym.make(\n",
    "        \"market-making-v0\",\n",
    "        background_config=\"rmsc04\"\n",
    "    )\n",
    "#set the general seed\n",
    "env.seed(1)"
   ]
  },
  {
   "cell_type": "code",
   "execution_count": 4,
   "metadata": {},
   "outputs": [
    {
     "name": "stdout",
     "output_type": "stream",
     "text": [
      "  0%|          | 0/1 [00:00<?, ?it/s]"
     ]
    },
    {
     "name": "stdout",
     "output_type": "stream",
     "text": [
      "torch.Size([1, 42])\n",
      "tensor([[ 3.8528e-02,  0.0000e+00, -6.4969e-05, -6.0022e-05, -6.5381e-01,\n",
      "          3.0000e+00,  7.4221e-04,  0.0000e+00, -8.6827e-08,  8.4833e-07,\n",
      "         -2.4431e-02,  1.0628e-01,  0.0000e+00,  0.0000e+00,  0.0000e+00,\n",
      "          0.0000e+00,  0.0000e+00,  0.0000e+00, -2.4163e-06,  0.0000e+00,\n",
      "          2.1105e-09,  2.1542e-08, -2.4685e-04, -1.0747e-04, -3.1609e-06,\n",
      "          0.0000e+00, -1.7642e-08,  1.8013e-09, -1.4824e-04, -1.0252e-04,\n",
      "         -7.5917e-04,  0.0000e+00,  2.8933e-04,  1.8748e-04,  2.1373e-01,\n",
      "         -1.9362e+00,  9.3074e-03,  0.0000e+00, -8.7440e-05, -7.7546e-05,\n",
      "         -2.5269e-02,  4.5000e+00]])\n",
      "  0%|          | 0/1 [00:03<?, ?it/s]\n"
     ]
    },
    {
     "ename": "RuntimeError",
     "evalue": "size mismatch, m1: [1 x 42], m2: [56 x 11] at ../aten/src/TH/generic/THTensorMath.cpp:41",
     "output_type": "error",
     "traceback": [
      "\u001b[0;31m---------------------------------------------------------------------------\u001b[0m",
      "\u001b[0;31mRuntimeError\u001b[0m                              Traceback (most recent call last)",
      "Cell \u001b[0;32mIn[4], line 2\u001b[0m\n\u001b[1;32m      1\u001b[0m sigpolicy \u001b[39m=\u001b[39m SigPolicy(env, \u001b[39m2\u001b[39m)\n\u001b[0;32m----> 2\u001b[0m results \u001b[39m=\u001b[39m train(env, sigpolicy, \u001b[39m1\u001b[39;49m, learning_rate\u001b[39m=\u001b[39;49m\u001b[39m0.01\u001b[39;49m, window_length\u001b[39m=\u001b[39;49m\u001b[39m90\u001b[39;49m)\n\u001b[1;32m      3\u001b[0m \u001b[39m#print(sigpolicy.sig_channels)\u001b[39;00m\n\u001b[1;32m      4\u001b[0m \u001b[39m#print(sigpolicy.linear.bias.data.shape)\u001b[39;00m\n",
      "File \u001b[0;32m~/Documents/Uni/TU/Arbeiten/Diplomarbeit/Python/SignatureQLearning/src/train.py:86\u001b[0m, in \u001b[0;36mtrain\u001b[0;34m(env, policy, episodes, discount, learning_rate, learning_rate_decay, epsilon, epsilon_decay, window_length)\u001b[0m\n\u001b[1;32m     83\u001b[0m         \u001b[39mprint\u001b[39m(history_signature)\n\u001b[1;32m     84\u001b[0m     \u001b[39mcontinue\u001b[39;00m\n\u001b[0;32m---> 86\u001b[0m Q \u001b[39m=\u001b[39m policy(history_signature)[\u001b[39m0\u001b[39m] \u001b[39m# unwrap from batch dimension\u001b[39;00m\n\u001b[1;32m     87\u001b[0m \u001b[39mif\u001b[39;00m np\u001b[39m.\u001b[39mrandom\u001b[39m.\u001b[39mrand(\u001b[39m1\u001b[39m) \u001b[39m<\u001b[39m epsilon:\n\u001b[1;32m     88\u001b[0m     action \u001b[39m=\u001b[39m np\u001b[39m.\u001b[39mrandom\u001b[39m.\u001b[39mrandint(\u001b[39m0\u001b[39m, env\u001b[39m.\u001b[39maction_space\u001b[39m.\u001b[39mn)\n",
      "File \u001b[0;32m~/Documents/Uni/TU/Arbeiten/Diplomarbeit/Python/SignatureQLearning/venv/lib/python3.8/site-packages/torch/nn/modules/module.py:722\u001b[0m, in \u001b[0;36mModule._call_impl\u001b[0;34m(self, *input, **kwargs)\u001b[0m\n\u001b[1;32m    720\u001b[0m     result \u001b[39m=\u001b[39m \u001b[39mself\u001b[39m\u001b[39m.\u001b[39m_slow_forward(\u001b[39m*\u001b[39m\u001b[39minput\u001b[39m, \u001b[39m*\u001b[39m\u001b[39m*\u001b[39mkwargs)\n\u001b[1;32m    721\u001b[0m \u001b[39melse\u001b[39;00m:\n\u001b[0;32m--> 722\u001b[0m     result \u001b[39m=\u001b[39m \u001b[39mself\u001b[39;49m\u001b[39m.\u001b[39;49mforward(\u001b[39m*\u001b[39;49m\u001b[39minput\u001b[39;49m, \u001b[39m*\u001b[39;49m\u001b[39m*\u001b[39;49mkwargs)\n\u001b[1;32m    723\u001b[0m \u001b[39mfor\u001b[39;00m hook \u001b[39min\u001b[39;00m itertools\u001b[39m.\u001b[39mchain(\n\u001b[1;32m    724\u001b[0m         _global_forward_hooks\u001b[39m.\u001b[39mvalues(),\n\u001b[1;32m    725\u001b[0m         \u001b[39mself\u001b[39m\u001b[39m.\u001b[39m_forward_hooks\u001b[39m.\u001b[39mvalues()):\n\u001b[1;32m    726\u001b[0m     hook_result \u001b[39m=\u001b[39m hook(\u001b[39mself\u001b[39m, \u001b[39minput\u001b[39m, result)\n",
      "File \u001b[0;32m~/Documents/Uni/TU/Arbeiten/Diplomarbeit/Python/SignatureQLearning/src/policies.py:33\u001b[0m, in \u001b[0;36mSigPolicy.forward\u001b[0;34m(self, signature)\u001b[0m\n\u001b[1;32m     24\u001b[0m \u001b[39m\u001b[39m\u001b[39m\"\"\" \u001b[39;00m\n\u001b[1;32m     25\u001b[0m \u001b[39mThe signature of a path fed through a single linear layer.\u001b[39;00m\n\u001b[1;32m     26\u001b[0m \u001b[39m:signature: is a two dimensional tensor of shape (batch, self.sig_channels). \u001b[39;00m\n\u001b[1;32m     27\u001b[0m \u001b[39mReturns a two dimensional tensor of shape (batch, out_dimension).      \u001b[39;00m\n\u001b[1;32m     28\u001b[0m \u001b[39m\"\"\"\u001b[39;00m\n\u001b[1;32m     29\u001b[0m \u001b[39m#x = self.linear1(signature)\u001b[39;00m\n\u001b[1;32m     30\u001b[0m \u001b[39m#x = F.normalize(x)\u001b[39;00m\n\u001b[1;32m     31\u001b[0m \u001b[39m#x = self.linear2(x)\u001b[39;00m\n\u001b[1;32m     32\u001b[0m \u001b[39m#x = F.normalize(signature)\u001b[39;00m\n\u001b[0;32m---> 33\u001b[0m \u001b[39mreturn\u001b[39;00m \u001b[39mself\u001b[39;49m\u001b[39m.\u001b[39;49mlinear(signature)\n",
      "File \u001b[0;32m~/Documents/Uni/TU/Arbeiten/Diplomarbeit/Python/SignatureQLearning/venv/lib/python3.8/site-packages/torch/nn/modules/module.py:722\u001b[0m, in \u001b[0;36mModule._call_impl\u001b[0;34m(self, *input, **kwargs)\u001b[0m\n\u001b[1;32m    720\u001b[0m     result \u001b[39m=\u001b[39m \u001b[39mself\u001b[39m\u001b[39m.\u001b[39m_slow_forward(\u001b[39m*\u001b[39m\u001b[39minput\u001b[39m, \u001b[39m*\u001b[39m\u001b[39m*\u001b[39mkwargs)\n\u001b[1;32m    721\u001b[0m \u001b[39melse\u001b[39;00m:\n\u001b[0;32m--> 722\u001b[0m     result \u001b[39m=\u001b[39m \u001b[39mself\u001b[39;49m\u001b[39m.\u001b[39;49mforward(\u001b[39m*\u001b[39;49m\u001b[39minput\u001b[39;49m, \u001b[39m*\u001b[39;49m\u001b[39m*\u001b[39;49mkwargs)\n\u001b[1;32m    723\u001b[0m \u001b[39mfor\u001b[39;00m hook \u001b[39min\u001b[39;00m itertools\u001b[39m.\u001b[39mchain(\n\u001b[1;32m    724\u001b[0m         _global_forward_hooks\u001b[39m.\u001b[39mvalues(),\n\u001b[1;32m    725\u001b[0m         \u001b[39mself\u001b[39m\u001b[39m.\u001b[39m_forward_hooks\u001b[39m.\u001b[39mvalues()):\n\u001b[1;32m    726\u001b[0m     hook_result \u001b[39m=\u001b[39m hook(\u001b[39mself\u001b[39m, \u001b[39minput\u001b[39m, result)\n",
      "File \u001b[0;32m~/Documents/Uni/TU/Arbeiten/Diplomarbeit/Python/SignatureQLearning/venv/lib/python3.8/site-packages/torch/nn/modules/linear.py:91\u001b[0m, in \u001b[0;36mLinear.forward\u001b[0;34m(self, input)\u001b[0m\n\u001b[1;32m     90\u001b[0m \u001b[39mdef\u001b[39;00m \u001b[39mforward\u001b[39m(\u001b[39mself\u001b[39m, \u001b[39minput\u001b[39m: Tensor) \u001b[39m-\u001b[39m\u001b[39m>\u001b[39m Tensor:\n\u001b[0;32m---> 91\u001b[0m     \u001b[39mreturn\u001b[39;00m F\u001b[39m.\u001b[39;49mlinear(\u001b[39minput\u001b[39;49m, \u001b[39mself\u001b[39;49m\u001b[39m.\u001b[39;49mweight, \u001b[39mself\u001b[39;49m\u001b[39m.\u001b[39;49mbias)\n",
      "File \u001b[0;32m~/Documents/Uni/TU/Arbeiten/Diplomarbeit/Python/SignatureQLearning/venv/lib/python3.8/site-packages/torch/nn/functional.py:1674\u001b[0m, in \u001b[0;36mlinear\u001b[0;34m(input, weight, bias)\u001b[0m\n\u001b[1;32m   1671\u001b[0m         \u001b[39mreturn\u001b[39;00m handle_torch_function(linear, tens_ops, \u001b[39minput\u001b[39m, weight, bias\u001b[39m=\u001b[39mbias)\n\u001b[1;32m   1672\u001b[0m \u001b[39mif\u001b[39;00m \u001b[39minput\u001b[39m\u001b[39m.\u001b[39mdim() \u001b[39m==\u001b[39m \u001b[39m2\u001b[39m \u001b[39mand\u001b[39;00m bias \u001b[39mis\u001b[39;00m \u001b[39mnot\u001b[39;00m \u001b[39mNone\u001b[39;00m:\n\u001b[1;32m   1673\u001b[0m     \u001b[39m# fused op is marginally faster\u001b[39;00m\n\u001b[0;32m-> 1674\u001b[0m     ret \u001b[39m=\u001b[39m torch\u001b[39m.\u001b[39;49maddmm(bias, \u001b[39minput\u001b[39;49m, weight\u001b[39m.\u001b[39;49mt())\n\u001b[1;32m   1675\u001b[0m \u001b[39melse\u001b[39;00m:\n\u001b[1;32m   1676\u001b[0m     output \u001b[39m=\u001b[39m \u001b[39minput\u001b[39m\u001b[39m.\u001b[39mmatmul(weight\u001b[39m.\u001b[39mt())\n",
      "\u001b[0;31mRuntimeError\u001b[0m: size mismatch, m1: [1 x 42], m2: [56 x 11] at ../aten/src/TH/generic/THTensorMath.cpp:41"
     ]
    }
   ],
   "source": [
    "sigpolicy = SigPolicy(env, 2)\n",
    "results = train(env, sigpolicy, 1, learning_rate=0.01, window_length=90)\n",
    "#print(sigpolicy.sig_channels)\n",
    "#print(sigpolicy.linear.bias.data.shape)\n"
   ]
  },
  {
   "cell_type": "code",
   "execution_count": null,
   "metadata": {},
   "outputs": [],
   "source": [
    "env = gym.make(\n",
    "    \"market-making-v0\",\n",
    "    background_config=\"rmsc04\"\n",
    ")"
   ]
  },
  {
   "cell_type": "code",
   "execution_count": null,
   "metadata": {},
   "outputs": [],
   "source": [
    "import random\n",
    "state = env.reset()\n",
    "done = False\n",
    "counter = 0\n",
    "\"\"\"\n",
    "for i in range(10):\n",
    "#while not done:\n",
    "    action = random.randint(0,9)\n",
    "    print(action)\n",
    "    if action in range(8):\n",
    "        print(\"limit order:\", action)\n",
    "    else: print(\"market order\")\n",
    "    state, reward, done, info = env.step(action)\n",
    "    counter += 1\n",
    "    if counter % 10 == 0:\n",
    "        print(\"counter: {} \\n state: {} \\n reward: {}\".format(\n",
    "            counter, state, reward\n",
    "        ))\n",
    "        \"\"\"\n",
    "print(state[:,0])"
   ]
  },
  {
   "cell_type": "code",
   "execution_count": null,
   "metadata": {},
   "outputs": [],
   "source": []
  }
 ],
 "metadata": {
  "kernelspec": {
   "display_name": "venv",
   "language": "python",
   "name": "python3"
  },
  "language_info": {
   "codemirror_mode": {
    "name": "ipython",
    "version": 3
   },
   "file_extension": ".py",
   "mimetype": "text/x-python",
   "name": "python",
   "nbconvert_exporter": "python",
   "pygments_lexer": "ipython3",
   "version": "3.8.0"
  },
  "orig_nbformat": 4
 },
 "nbformat": 4,
 "nbformat_minor": 2
}
