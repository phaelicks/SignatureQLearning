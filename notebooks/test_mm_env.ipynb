{
 "cells": [
  {
   "cell_type": "code",
   "execution_count": 1,
   "metadata": {},
   "outputs": [],
   "source": [
    "%run base.ipynb\n",
    "import gym\n",
    "from abides_gym_market_making_environment import *"
   ]
  },
  {
   "cell_type": "code",
   "execution_count": 2,
   "metadata": {},
   "outputs": [],
   "source": [
    "# register market making env for gym use \n",
    "from gym.envs.registration import register\n",
    "\n",
    "register(\n",
    "    id=\"market-making-v0\",\n",
    "    entry_point=SubGymMarketsMarketMakingEnv_v0,\n",
    ")"
   ]
  },
  {
   "cell_type": "code",
   "execution_count": 3,
   "metadata": {},
   "outputs": [
    {
     "data": {
      "text/plain": [
       "[1]"
      ]
     },
     "execution_count": 3,
     "metadata": {},
     "output_type": "execute_result"
    }
   ],
   "source": [
    "# create the environment\n",
    "env = gym.make(\n",
    "        \"market-making-v0\",\n",
    "        background_config=\"rmsc04\"\n",
    "    )\n",
    "#set the general seed\n",
    "env.seed(1)"
   ]
  },
  {
   "cell_type": "code",
   "execution_count": 4,
   "metadata": {},
   "outputs": [
    {
     "name": "stdout",
     "output_type": "stream",
     "text": [
      "no orders executed\n",
      "limit sell reward: 150.0\n",
      "no orders executed\n",
      "no orders executed\n",
      "limit buy reward: -15.0\n",
      "no orders executed\n",
      "no orders executed\n",
      "no orders executed\n",
      "no orders executed\n",
      "no orders executed\n",
      "no orders executed\n",
      "no orders executed\n",
      "no orders executed\n",
      "limit buy reward: -4.5\n",
      "limit buy reward: -4.5\n",
      "no orders executed\n",
      "limit buy reward: 211.5\n",
      "limit buy reward: -1.5\n",
      "no orders executed\n",
      "no orders executed\n",
      "no orders executed\n",
      "limit buy reward: 1.5\n",
      "limit sell reward: 61.5\n",
      "no orders executed\n",
      "no orders executed\n",
      "no orders executed\n",
      "no orders executed\n",
      "no orders executed\n",
      "no orders executed\n",
      "limit buy reward: 550.0\n",
      "limit sell reward: -18.0\n",
      "no orders executed\n",
      "limit sell reward: -4.0\n",
      "no orders executed\n",
      "no orders executed\n",
      "no orders executed\n",
      "no orders executed\n",
      "limit buy reward: 55.5\n",
      "limit buy reward: 40.5\n",
      "limit sell reward: 37.5\n",
      "limit sell reward: 112.5\n",
      "no orders executed\n",
      "no orders executed\n",
      "limit buy reward: 150.0\n",
      "no orders executed\n",
      "no orders executed\n",
      "no orders executed\n",
      "no orders executed\n",
      "no orders executed\n",
      "no orders executed\n",
      "limit buy reward: 162.5\n",
      "no orders executed\n",
      "no orders executed\n",
      "no orders executed\n",
      "limit sell reward: -42.5\n",
      "no orders executed\n",
      "no orders executed\n",
      "no orders executed\n",
      "no orders executed\n",
      "no orders executed\n",
      "no orders executed\n",
      "no orders executed\n",
      "no orders executed\n",
      "limit sell reward: -7.5\n",
      "no orders executed\n",
      "no orders executed\n",
      "no orders executed\n",
      "no orders executed\n",
      "no orders executed\n",
      "limit sell reward: -32.5\n",
      "no orders executed\n",
      "no orders executed\n",
      "limit buy reward: 348.0\n",
      "limit buy reward: 252.0\n",
      "no orders executed\n",
      "no orders executed\n",
      "limit sell reward: -143.0\n",
      "no orders executed\n",
      "no orders executed\n",
      "no orders executed\n",
      "no orders executed\n",
      "no orders executed\n",
      "no orders executed\n",
      "no orders executed\n",
      "limit sell reward: 61.5\n",
      "no orders executed\n",
      "no orders executed\n",
      "no orders executed\n",
      "no orders executed\n",
      "no orders executed\n",
      "no orders executed\n",
      "limit buy reward: 55.5\n",
      "no orders executed\n",
      "no orders executed\n",
      "no orders executed\n",
      "no orders executed\n",
      "no orders executed\n",
      "no orders executed\n",
      "no orders executed\n",
      "limit buy reward: 200.0\n",
      "no orders executed\n",
      "no orders executed\n",
      "no orders executed\n",
      "counter: 100 \n",
      " state: [[0.04444445]\n",
      " [0.29      ]\n",
      " [0.999275  ]\n",
      " [0.999275  ]\n",
      " [0.252809  ]\n",
      " [1.        ]] \n",
      " reward: 0\n"
     ]
    }
   ],
   "source": [
    "import random\n",
    "state = env.reset()\n",
    "done = False\n",
    "counter = 0\n",
    "\n",
    "for i in range(100):\n",
    "#while not done:\n",
    "    action = 0 #random.randint(0,9)\n",
    "    state, reward, done, info = env.step(action)\n",
    "    counter += 1\n",
    "    if counter % 100 == 0:\n",
    "        print(\"counter: {} \\n state: {} \\n reward: {}\".format(\n",
    "            counter, state, reward\n",
    "        ))\n",
    "\n",
    "\n",
    "\n",
    "\n"
   ]
  },
  {
   "cell_type": "code",
   "execution_count": null,
   "metadata": {},
   "outputs": [],
   "source": []
  }
 ],
 "metadata": {
  "kernelspec": {
   "display_name": "venv",
   "language": "python",
   "name": "python3"
  },
  "language_info": {
   "codemirror_mode": {
    "name": "ipython",
    "version": 3
   },
   "file_extension": ".py",
   "mimetype": "text/x-python",
   "name": "python",
   "nbconvert_exporter": "python",
   "pygments_lexer": "ipython3",
   "version": "3.8.0"
  },
  "orig_nbformat": 4
 },
 "nbformat": 4,
 "nbformat_minor": 2
}
