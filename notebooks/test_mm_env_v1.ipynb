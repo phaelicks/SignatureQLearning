{
 "cells": [
  {
   "cell_type": "code",
   "execution_count": 1,
   "metadata": {},
   "outputs": [],
   "source": [
    "%run base.ipynb\n",
    "import gym\n",
    "import matplotlib.pyplot as plt\n",
    "\n",
    "from abides_gym_market_making_environment_v1 import *\n",
    "from policies_v1 import SigPolicy\n",
    "from train_v1 import train\n",
    "import utils"
   ]
  },
  {
   "cell_type": "code",
   "execution_count": 2,
   "metadata": {},
   "outputs": [],
   "source": [
    "# register market making env for gym use \n",
    "from gym.envs.registration import register\n",
    "\n",
    "register(\n",
    "    id=\"market-making-v1\",\n",
    "    entry_point=SubGymMarketsMarketMakingEnv_v1,\n",
    ")\n",
    "\n",
    "def generate_env(seed):\n",
    "    \"\"\"\n",
    "    generates specific environment with the parameters defined and set the seed\n",
    "    \"\"\"\n",
    "    env = gym.make(\n",
    "            \"market-making-v1\",\n",
    "            background_config=\"rmsc04\",\n",
    "            mkt_close=\"11:45:00\",\n",
    "            timestep_duration=\"10s\",\n",
    "            order_fixed_size=10,\n",
    "            first_interval=\"00:13:00\",\n",
    "            max_inventory=100,\n",
    "            remaining_inventory_reward=-100,#penalty\n",
    "            inventory_reward_dampener=0.6,\n",
    "            damp_mode=\"asymmetric\",\n",
    "            debug_mode=False\n",
    "        )\n",
    "\n",
    "    env.seed(seed)\n",
    "    \n",
    "    return env"
   ]
  },
  {
   "cell_type": "code",
   "execution_count": 3,
   "metadata": {},
   "outputs": [],
   "source": [
    "# create the environment\n",
    "env = generate_env(5)"
   ]
  },
  {
   "cell_type": "code",
   "execution_count": 4,
   "metadata": {},
   "outputs": [
    {
     "name": "stdout",
     "output_type": "stream",
     "text": [
      "  0%|          | 0/10 [00:00<?, ?it/s]Epsiode 0 | step 200 | reward 0.5925000000000001 | loss 0.0509586515801177\n",
      "Q values: tensor([0.3530, 0.3514, 0.3345], grad_fn=<SelectBackward>)\n",
      "Epsiode 0 | step 400 | reward 1.9849999999999977 | loss 0.09304290410225247\n",
      "Q values: tensor([0.5077, 0.4796, 0.5011], grad_fn=<SelectBackward>)\n",
      "Epsiode 0 | step 600 | reward 3.8815 | loss 0.17151774463656166\n",
      "Q values: tensor([0.8708, 0.9241, 0.8966], grad_fn=<SelectBackward>)\n",
      "Epsiode 0 | step 793 | reward 5.731499999999996 | loss 0.6531299427136632\n",
      "Q values: tensor([0.8286, 0.8091, 0.8156], grad_fn=<SelectBackward>)\n",
      " 10%|█         | 1/10 [00:48<07:15, 48.39s/it]Epsiode 1 | step 200 | reward 0.9415000000000002 | loss 0.1313458760288313\n",
      "Q values: tensor([0.8294, 0.8215, 0.8104], grad_fn=<SelectBackward>)\n",
      "Epsiode 1 | step 400 | reward 2.976499999999998 | loss 0.24850437201775044\n",
      "Q values: tensor([0.8282, 0.8548, 0.8206], grad_fn=<SelectBackward>)\n",
      "Epsiode 1 | step 600 | reward 4.341499999999999 | loss 0.3120920452461764\n",
      "Q values: tensor([0.6082, 0.5969, 0.5917], grad_fn=<SelectBackward>)\n",
      "Epsiode 1 | step 793 | reward 6.753499999999993 | loss 0.3789519005401605\n",
      "Q values: tensor([0.5839, 0.5823, 0.5898], grad_fn=<SelectBackward>)\n",
      " 20%|██        | 2/10 [01:39<06:39, 50.00s/it]Epsiode 2 | step 200 | reward 0.9925000000000005 | loss 0.033346334470893524\n",
      "Q values: tensor([0.5785, 0.5704, 0.5726], grad_fn=<SelectBackward>)\n",
      "Epsiode 2 | step 400 | reward 2.603999999999999 | loss 0.08336748993378018\n",
      "Q values: tensor([0.5217, 0.5074, 0.5129], grad_fn=<SelectBackward>)\n",
      "Epsiode 2 | step 600 | reward 4.571999999999999 | loss 0.16370753905458857\n",
      "Q values: tensor([0.6353, 0.6339, 0.6717], grad_fn=<SelectBackward>)\n",
      "Epsiode 2 | step 793 | reward 6.6279999999999974 | loss 0.41949650450401466\n",
      "Q values: tensor([0.7040, 0.6934, 0.7134], grad_fn=<SelectBackward>)\n",
      " 30%|███       | 3/10 [02:31<05:56, 50.88s/it]Epsiode 3 | step 200 | reward 0.8980000000000002 | loss 0.12035900832925428\n",
      "Q values: tensor([0.7839, 0.8272, 0.7245], grad_fn=<SelectBackward>)\n",
      "Epsiode 3 | step 400 | reward 1.952999999999998 | loss 0.17301243784897657\n",
      "Q values: tensor([0.5614, 0.5652, 0.5655], grad_fn=<SelectBackward>)\n",
      "Epsiode 3 | step 600 | reward 3.0984999999999996 | loss 0.2626484633584667\n",
      "Q values: tensor([0.4314, 0.4210, 0.4378], grad_fn=<SelectBackward>)\n",
      "Epsiode 3 | step 793 | reward 4.201999999999999 | loss 0.40411474334950137\n",
      "Q values: tensor([0.4514, 0.4422, 0.4523], grad_fn=<SelectBackward>)\n",
      " 40%|████      | 4/10 [03:21<05:02, 50.40s/it]Epsiode 4 | step 200 | reward 0.9100000000000004 | loss 0.09960038849439812\n",
      "Q values: tensor([0.5719, 0.6224, 0.5766], grad_fn=<SelectBackward>)\n",
      "Epsiode 4 | step 400 | reward 2.7749999999999986 | loss 0.1756943233277095\n",
      "Q values: tensor([0.5889, 0.5971, 0.5808], grad_fn=<SelectBackward>)\n",
      "Epsiode 4 | step 600 | reward 4.599999999999998 | loss 0.2758987445024985\n",
      "Q values: tensor([0.6402, 0.6835, 0.6818], grad_fn=<SelectBackward>)\n",
      "Epsiode 4 | step 793 | reward 6.413499999999996 | loss 0.527385219413901\n",
      "Q values: tensor([0.6347, 0.6247, 0.6416], grad_fn=<SelectBackward>)\n",
      " 50%|█████     | 5/10 [04:12<04:14, 50.93s/it]Epsiode 5 | step 200 | reward 0.8840000000000003 | loss 0.05618908571212344\n",
      "Q values: tensor([0.5609, 0.5635, 0.5311], grad_fn=<SelectBackward>)\n",
      "Epsiode 5 | step 400 | reward 2.716999999999998 | loss 0.13439094574785848\n",
      "Q values: tensor([0.5636, 0.5474, 0.5759], grad_fn=<SelectBackward>)\n",
      "Epsiode 5 | step 600 | reward 4.804999999999999 | loss 0.30469228300149354\n",
      "Q values: tensor([0.6004, 0.5708, 0.5781], grad_fn=<SelectBackward>)\n",
      "Epsiode 5 | step 793 | reward 16.315499999999997 | loss 8.669941704483996\n",
      "Q values: tensor([0.6659, 0.6239, 0.6441], grad_fn=<SelectBackward>)\n",
      " 60%|██████    | 6/10 [05:11<03:33, 53.47s/it]Epsiode 6 | step 200 | reward 0.6250000000000002 | loss 0.09550961013275838\n",
      "Q values: tensor([0.7642, 0.7441, 0.8103], grad_fn=<SelectBackward>)\n",
      "Epsiode 6 | step 400 | reward 2.2549999999999972 | loss 0.1727346201180442\n",
      "Q values: tensor([0.6376, 0.6246, 0.6316], grad_fn=<SelectBackward>)\n",
      "Epsiode 6 | step 600 | reward 3.7674999999999996 | loss 0.26585489424442166\n",
      "Q values: tensor([0.5719, 0.5968, 0.6006], grad_fn=<SelectBackward>)\n",
      "Epsiode 6 | step 793 | reward 5.273499999999997 | loss 0.49690771674568346\n",
      "Q values: tensor([0.5481, 0.5541, 0.5570], grad_fn=<SelectBackward>)\n",
      " 70%|███████   | 7/10 [06:02<02:38, 52.70s/it]Epsiode 7 | step 200 | reward 0.8600000000000003 | loss 0.045797774220066145\n",
      "Q values: tensor([0.4921, 0.4446, 0.4232], grad_fn=<SelectBackward>)\n",
      "Epsiode 7 | step 400 | reward 3.1049999999999986 | loss 0.1935340763510589\n",
      "Q values: tensor([0.5779, 0.5943, 0.6102], grad_fn=<SelectBackward>)\n",
      "Epsiode 7 | step 600 | reward 5.720999999999996 | loss 0.3035733553943438\n",
      "Q values: tensor([0.6418, 0.6321, 0.6261], grad_fn=<SelectBackward>)\n",
      "Epsiode 7 | step 793 | reward 7.167999999999994 | loss 0.5109624299049593\n",
      "Q values: tensor([0.4892, 0.4952, 0.5181], grad_fn=<SelectBackward>)\n",
      " 80%|████████  | 8/10 [06:55<01:45, 52.73s/it]Epsiode 8 | step 200 | reward 0.6560000000000001 | loss 0.07784121008145917\n",
      "Q values: tensor([0.4404, 0.4419, 0.4054], grad_fn=<SelectBackward>)\n",
      "Epsiode 8 | step 400 | reward 1.8309999999999973 | loss 0.1240739847540695\n",
      "Q values: tensor([0.4332, 0.4104, 0.3511], grad_fn=<SelectBackward>)\n",
      "Epsiode 8 | step 600 | reward 3.946999999999999 | loss 0.21180982884277189\n",
      "Q values: tensor([0.6278, 0.6233, 0.6560], grad_fn=<SelectBackward>)\n",
      "Epsiode 8 | step 793 | reward 8.161999999999994 | loss 1.1301412279037715\n",
      "Q values: tensor([0.6078, 0.5147, 0.5512], grad_fn=<SelectBackward>)\n",
      " 90%|█████████ | 9/10 [07:49<00:53, 53.31s/it]Epsiode 9 | step 200 | reward 0.7260000000000003 | loss 0.16979656626455863\n",
      "Q values: tensor([0.5977, 0.6574, 0.6609], grad_fn=<SelectBackward>)\n",
      "Epsiode 9 | step 400 | reward 2.7924999999999978 | loss 0.26514907273947586\n",
      "Q values: tensor([0.6261, 0.5962, 0.6401], grad_fn=<SelectBackward>)\n",
      "Epsiode 9 | step 600 | reward 4.785500000000001 | loss 0.36733866870831733\n",
      "Q values: tensor([0.5311, 0.5495, 0.5133], grad_fn=<SelectBackward>)\n",
      "Epsiode 9 | step 793 | reward 7.6065 | loss 1.136867201277557\n",
      "Q values: tensor([0.4430, 0.4239, 0.4097], grad_fn=<SelectBackward>)\n",
      "100%|██████████| 10/10 [08:49<00:00, 52.95s/it]\n",
      "tensor([[ 0.5264, -0.0387, -1.7078,  0.2031,  0.0855, -0.4639,  0.4600,  0.5298,\n",
      "          0.0958, -0.7458,  0.1751, -0.1364],\n",
      "        [ 0.4411, -0.0739, -0.9816,  0.5810,  0.0482, -0.5445, -0.0355,  0.5384,\n",
      "         -0.2713, -0.1171,  0.2727,  0.1354],\n",
      "        [ 0.1771, -0.0581,  0.2890,  0.3215, -0.0410, -0.0818, -0.4309,  0.7826,\n",
      "         -2.0358,  0.6192, -2.1639,  0.0093]])\n"
     ]
    }
   ],
   "source": [
    "episodes = 10\n",
    "lr = 0.01\n",
    "window_length = 12\n",
    "eps = 0.9\n",
    "eps_decay = utils.linear_decay(epochs=7_000, start=eps, end=0.2)\n",
    "\n",
    "sigpolicy = SigPolicy(env, 2)\n",
    "sigpolicy.initialize_parameters(zero_bias=True)\n",
    "\n",
    "results = train(env, \n",
    "                sigpolicy, \n",
    "                episodes,\n",
    "                discount=0.97,\n",
    "                learning_rate=lr, \n",
    "                epsilon=eps,\n",
    "                epsilon_decay=eps_decay,\n",
    "                window_length=window_length, \n",
    "                printing=False)\n",
    "\n",
    "print(sigpolicy.linear.weight.data)\n"
   ]
  },
  {
   "cell_type": "code",
   "execution_count": 10,
   "metadata": {},
   "outputs": [
    {
     "data": {
      "image/png": "[encoded data removed]",
      "text/plain": [
       "<Figure size 640x480 with 1 Axes>"
      ]
     },
     "metadata": {},
     "output_type": "display_data"
    }
   ],
   "source": [
    "plt.plot(results[\"losses\"])\n",
    "#plt.plot(results[\"losses\"])\n",
    "#plt.plot([reward if reward > -2000 else 0 for reward in results[\"rewards\"]])\n",
    "\n",
    "hist = list(results[\"history\"])\n",
    "#plt.plot(np.array(hist)[:,3])\n"
   ]
  },
  {
   "cell_type": "code",
   "execution_count": null,
   "metadata": {},
   "outputs": [],
   "source": [
    "import pickle\n",
    "\n",
    "# write results \n",
    "with open('../results/error.pkl', 'wb') as f:  # open a text file\n",
    "    pickle.dump(results, f) # serialize the list\n",
    "f.close()"
   ]
  },
  {
   "cell_type": "code",
   "execution_count": null,
   "metadata": {},
   "outputs": [],
   "source": [
    "import pickle\n",
    "\n",
    "# load results\n",
    "with open('../results/500_runs.pkl', 'rb') as f:\n",
    "    deserialized_results = pickle.load(f)\n",
    "f.close()"
   ]
  },
  {
   "cell_type": "code",
   "execution_count": null,
   "metadata": {},
   "outputs": [],
   "source": [
    "#plt.plot(deserialized_results[\"rewards\"])\n",
    "#plt.plot(results[\"losses\"])\n",
    "plt.plot([reward if reward > -2000 else 0 for reward in deserialized_results[\"rewards\"]])\n",
    "\n",
    "hist = list(deserialized_results[\"history\"])\n",
    "#plt.plot(np.array(hist)[:,3])"
   ]
  }
 ],
 "metadata": {
  "kernelspec": {
   "display_name": "venv",
   "language": "python",
   "name": "python3"
  },
  "language_info": {
   "codemirror_mode": {
    "name": "ipython",
    "version": 3
   },
   "file_extension": ".py",
   "mimetype": "text/x-python",
   "name": "python",
   "nbconvert_exporter": "python",
   "pygments_lexer": "ipython3",
   "version": "3.8.0"
  },
  "orig_nbformat": 4
 },
 "nbformat": 4,
 "nbformat_minor": 2
}
